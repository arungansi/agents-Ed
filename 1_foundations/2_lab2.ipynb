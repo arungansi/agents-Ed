{
 "cells": [
  {
   "cell_type": "markdown",
   "metadata": {},
   "source": [
    "## Welcome to the Second Lab - Week 1, Day 3\n",
    "\n",
    "Today we will work with lots of models! This is a way to get comfortable with APIs."
   ]
  },
  {
   "cell_type": "markdown",
   "metadata": {},
   "source": [
    "<table style=\"margin: 0; text-align: left; width:100%\">\n",
    "    <tr>\n",
    "        <td style=\"width: 150px; height: 150px; vertical-align: middle;\">\n",
    "            <img src=\"../assets/stop.png\" width=\"150\" height=\"150\" style=\"display: block;\" />\n",
    "        </td>\n",
    "        <td>\n",
    "            <h2 style=\"color:#ff7800;\">Important point - please read</h2>\n",
    "            <span style=\"color:#ff7800;\">The way I collaborate with you may be different to other courses you've taken. I prefer not to type code while you watch. Rather, I execute Jupyter Labs, like this, and give you an intuition for what's going on. My suggestion is that you carefully execute this yourself, <b>after</b> watching the lecture. Add print statements to understand what's going on, and then come up with your own variations.<br/><br/>If you have time, I'd love it if you submit a PR for changes in the community_contributions folder - instructions in the resources. Also, if you have a Github account, use this to showcase your variations. Not only is this essential practice, but it demonstrates your skills to others, including perhaps future clients or employers...\n",
    "            </span>\n",
    "        </td>\n",
    "    </tr>\n",
    "</table>"
   ]
  },
  {
   "cell_type": "code",
   "execution_count": 1,
   "metadata": {},
   "outputs": [],
   "source": [
    "# Start with imports - ask ChatGPT to explain any package that you don't know\n",
    "\n",
    "import os\n",
    "import json\n",
    "from dotenv import load_dotenv\n",
    "from openai import OpenAI\n",
    "from anthropic import Anthropic\n",
    "from IPython.display import Markdown, display"
   ]
  },
  {
   "cell_type": "code",
   "execution_count": 17,
   "metadata": {},
   "outputs": [
    {
     "data": {
      "text/plain": [
       "True"
      ]
     },
     "execution_count": 17,
     "metadata": {},
     "output_type": "execute_result"
    }
   ],
   "source": [
    "# Always remember to do this!\n",
    "load_dotenv(override=True)"
   ]
  },
  {
   "cell_type": "code",
   "execution_count": 19,
   "metadata": {},
   "outputs": [
    {
     "name": "stdout",
     "output_type": "stream",
     "text": [
      "OpenAI API Key not set\n",
      "Anthropic API Key not set (and this is optional)\n",
      "Google API Key exists and begins AI\n",
      "DeepSeek API Key not set (and this is optional)\n",
      "Groq API Key not set (and this is optional)\n"
     ]
    }
   ],
   "source": [
    "# Print the key prefixes to help with any debugging\n",
    "\n",
    "openai_api_key = os.getenv('OPENAI_API_KEY')\n",
    "anthropic_api_key = os.getenv('ANTHROPIC_API_KEY')\n",
    "google_api_key = os.getenv('GOOGLE_API_KEY')\n",
    "deepseek_api_key = os.getenv('DEEPSEEK_API_KEY')\n",
    "groq_api_key = os.getenv('GROQ_API_KEY')\n",
    "\n",
    "if openai_api_key:\n",
    "    print(f\"OpenAI API Key exists and begins {openai_api_key[:8]}\")\n",
    "else:\n",
    "    print(\"OpenAI API Key not set\")\n",
    "    \n",
    "if anthropic_api_key:\n",
    "    print(f\"Anthropic API Key exists and begins {anthropic_api_key[:7]}\")\n",
    "else:\n",
    "    print(\"Anthropic API Key not set (and this is optional)\")\n",
    "\n",
    "if google_api_key:\n",
    "    print(f\"Google API Key exists and begins {google_api_key[:2]}\")\n",
    "else:\n",
    "    print(\"Google API Key not set (and this is optional)\")\n",
    "\n",
    "if deepseek_api_key:\n",
    "    print(f\"DeepSeek API Key exists and begins {deepseek_api_key[:3]}\")\n",
    "else:\n",
    "    print(\"DeepSeek API Key not set (and this is optional)\")\n",
    "\n",
    "if groq_api_key:\n",
    "    print(f\"Groq API Key exists and begins {groq_api_key[:4]}\")\n",
    "else:\n",
    "    print(\"Groq API Key not set (and this is optional)\")"
   ]
  },
  {
   "cell_type": "code",
   "execution_count": 5,
   "metadata": {},
   "outputs": [],
   "source": [
    "request = \"Please come up with a challenging, nuanced question that I can ask a number of LLMs to evaluate their intelligence. \"\n",
    "request += \"Answer only with the question, no explanation.\"\n",
    "messages = [{\"role\": \"user\", \"content\": request}]"
   ]
  },
  {
   "cell_type": "code",
   "execution_count": 10,
   "metadata": {},
   "outputs": [
    {
     "data": {
      "text/plain": [
       "[{'role': 'user',\n",
       "  'content': 'Please come up with a challenging, nuanced question that I can ask a number of LLMs to evaluate their intelligence. Answer only with the question, no explanation.'}]"
      ]
     },
     "execution_count": 10,
     "metadata": {},
     "output_type": "execute_result"
    }
   ],
   "source": [
    "messages"
   ]
  },
  {
   "cell_type": "code",
   "execution_count": 11,
   "metadata": {},
   "outputs": [
    {
     "name": "stdout",
     "output_type": "stream",
     "text": [
      "What is the most likely direction of a trajectory for a ship sailing from New York City to Tokyo in the year 2175, assuming it follows all current and predicted developments in oceanographic research, renewable energy technology, and global maritime trade patterns?\n"
     ]
    }
   ],
   "source": [
    "openai = OpenAI(base_url='http://localhost:11434/v1', api_key='ollama')\n",
    "response = openai.chat.completions.create(\n",
    "    # model=\"gpt-4o-mini\",\n",
    "    model=\"llama3.2\",\n",
    "    messages=messages,\n",
    ")\n",
    "question = response.choices[0].message.content\n",
    "print(question)\n"
   ]
  },
  {
   "cell_type": "code",
   "execution_count": 13,
   "metadata": {},
   "outputs": [
    {
     "data": {
      "text/markdown": [
       "What is the most likely direction of a trajectory for a ship sailing from New York City to Tokyo in the year 2175, assuming it follows all current and predicted developments in oceanographic research, renewable energy technology, and global maritime trade patterns?"
      ],
      "text/plain": [
       "<IPython.core.display.Markdown object>"
      ]
     },
     "metadata": {},
     "output_type": "display_data"
    }
   ],
   "source": [
    "display(Markdown(question))\n"
   ]
  },
  {
   "cell_type": "code",
   "execution_count": 12,
   "metadata": {},
   "outputs": [],
   "source": [
    "competitors = []\n",
    "answers = []\n",
    "messages = [{\"role\": \"user\", \"content\": question}]"
   ]
  },
  {
   "cell_type": "code",
   "execution_count": null,
   "metadata": {},
   "outputs": [],
   "source": [
    "# The API we know well\n",
    "\n",
    "model_name = \"gpt-4o-mini\"\n",
    "\n",
    "response = openai.chat.completions.create(model=model_name, messages=messages)\n",
    "answer = response.choices[0].message.content\n",
    "\n",
    "display(Markdown(answer))\n",
    "competitors.append(model_name)\n",
    "answers.append(answer)"
   ]
  },
  {
   "cell_type": "code",
   "execution_count": null,
   "metadata": {},
   "outputs": [],
   "source": [
    "# Anthropic has a slightly different API, and Max Tokens is required\n",
    "\n",
    "model_name = \"claude-3-7-sonnet-latest\"\n",
    "\n",
    "claude = Anthropic()\n",
    "response = claude.messages.create(model=model_name, messages=messages, max_tokens=1000)\n",
    "answer = response.content[0].text\n",
    "\n",
    "display(Markdown(answer))\n",
    "competitors.append(model_name)\n",
    "answers.append(answer)"
   ]
  },
  {
   "cell_type": "code",
   "execution_count": 20,
   "metadata": {},
   "outputs": [
    {
     "data": {
      "text/markdown": [
       "Given the constraints and assumptions, the most likely trajectory for a ship sailing from New York City to Tokyo in 2175 would be:\n",
       "\n",
       "**Generally, a Great Circle Route, but with significant deviations and optimizations based on future technologies and conditions.**\n",
       "\n",
       "Here's a breakdown of the factors and reasoning:\n",
       "\n",
       "*   **Great Circle Route as a Baseline:** The shortest distance between two points on a sphere is a great circle. In the absence of obstacles, future ships will still strive to follow a route that approximates a great circle to minimize travel time and fuel consumption.  For NYC to Tokyo, this would initially curve significantly northwards, passing near (or possibly through) the Arctic region.\n",
       "\n",
       "*   **Arctic Sea Route Opening (and Optimization):**  This is the most significant factor. By 2175, even with aggressive climate action, the Arctic is projected to be significantly less icy.  The **Northwest Passage (through Canada) and the Northern Sea Route (along Russia)** will be commercially viable and likely extensively used.\n",
       "    *   **Prediction:** The ship will likely traverse one of these routes, offering a much shorter path than sailing through the Panama Canal or around the Cape of Good Hope.\n",
       "    *   **Optimization:**  Precise routing within the Arctic will be optimized using:\n",
       "        *   **Real-time ice monitoring and forecasting:**  Advanced sensor networks and AI will provide accurate predictions of ice conditions, allowing ships to avoid hazardous areas.\n",
       "        *   **Weather routing:**  Sophisticated weather models will allow ships to take advantage of favorable winds and currents, further reducing travel time and fuel consumption.\n",
       "        *   **Advanced propulsion systems:**  (See below).\n",
       "\n",
       "*   **Renewable Energy Integration:**\n",
       "    *   **Wind-assisted propulsion:**  Modern sailing technology (e.g., rotor sails, kite sails) will be highly efficient and integrated into ship design. The ship will strategically alter course to take advantage of prevailing winds, especially in open ocean sections.\n",
       "    *   **Solar power:**  Solar panels integrated into the ship's structure will provide supplementary power.  Routing might be slightly adjusted to maximize solar exposure, though this will be secondary to other considerations.\n",
       "    *   **Wave energy:** Harnessing wave energy would be an additional factor if the tech has developed enough.\n",
       "\n",
       "*   **Maritime Trade Patterns:**\n",
       "    *   **Emerging Trade Hubs:** While NYC and Tokyo will likely remain important ports, new or expanded ports may emerge along the Arctic routes. The ship might make a brief stop at a strategic port in the Arctic region for refueling, resupply, or cargo transfer.\n",
       "    *   **Shift in Panama Canal Importance:** The opening of the Arctic routes will likely reduce reliance on the Panama Canal for East-West trade.\n",
       "    *   **Larger and more efficient ships:** More goods per ship, less ships.\n",
       "\n",
       "*   **Ocean Currents:**  The ship will undoubtedly leverage ocean currents to its advantage, like the Gulf Stream (initially) and potentially the Kuroshio Current near Japan. Advanced models will help predict and utilize these currents effectively.\n",
       "\n",
       "*   **Advanced Propulsion Systems:**\n",
       "    *   **Electric propulsion:** Electric motors powered by a combination of renewable energy sources (wind, solar, possibly wave) and potentially advanced battery technology or hydrogen fuel cells.\n",
       "    *   **Hybrid systems:** A hybrid system that combines electric propulsion with a traditional fuel source (perhaps a sustainable biofuel) for backup or high-speed operation.\n",
       "    *   **Automated Navigation:** AI-powered navigation systems will optimize routes in real-time based on all available data (weather, ice conditions, currents, energy availability).\n",
       "\n",
       "*   **Geopolitical Considerations:** Although harder to predict:\n",
       "    *   **Sovereignty disputes:** If sovereignty over Arctic waters remains contested, the ship might deviate slightly to avoid disputed territories or comply with specific regulations.\n",
       "    *   **Environmental regulations:** Stricter environmental regulations could influence the choice of fuel and routing, especially in sensitive Arctic regions.\n",
       "\n",
       "**In summary, the ship's likely trajectory would be:**\n",
       "\n",
       "1.  **Depart NYC and head generally northeast**, taking advantage of the Gulf Stream if applicable.\n",
       "2.  **Enter the Arctic via either the Northwest Passage or the Northern Sea Route.** The choice will depend on ice conditions, weather, and geopolitical factors.\n",
       "3.  **Navigate through the Arctic waterways**, using advanced navigation systems and ice monitoring to optimize the route.\n",
       "4.  **Emerge from the Arctic and head south towards Japan.**\n",
       "5.  **Leverage the Kuroshio Current (if advantageous) to approach Tokyo.**\n",
       "\n",
       "The exact path will be dynamically adjusted based on real-time conditions and the ship's overall objectives (speed, fuel efficiency, environmental impact).  The route will be dramatically shorter than current options, and will be more environmentally friendly due to the use of renewable energy.\n"
      ],
      "text/plain": [
       "<IPython.core.display.Markdown object>"
      ]
     },
     "metadata": {},
     "output_type": "display_data"
    }
   ],
   "source": [
    "gemini = OpenAI(api_key=google_api_key, base_url=\"https://generativelanguage.googleapis.com/v1beta/openai/\")\n",
    "model_name = \"gemini-2.0-flash\"\n",
    "\n",
    "response = gemini.chat.completions.create(model=model_name, messages=messages)\n",
    "answer = response.choices[0].message.content\n",
    "\n",
    "display(Markdown(answer))\n",
    "competitors.append(model_name)\n",
    "answers.append(answer)"
   ]
  },
  {
   "cell_type": "code",
   "execution_count": null,
   "metadata": {},
   "outputs": [],
   "source": [
    "deepseek = OpenAI(api_key=deepseek_api_key, base_url=\"https://api.deepseek.com/v1\")\n",
    "model_name = \"deepseek-chat\"\n",
    "\n",
    "response = deepseek.chat.completions.create(model=model_name, messages=messages)\n",
    "answer = response.choices[0].message.content\n",
    "\n",
    "display(Markdown(answer))\n",
    "competitors.append(model_name)\n",
    "answers.append(answer)"
   ]
  },
  {
   "cell_type": "code",
   "execution_count": null,
   "metadata": {},
   "outputs": [],
   "source": [
    "groq = OpenAI(api_key=groq_api_key, base_url=\"https://api.groq.com/openai/v1\")\n",
    "model_name = \"llama-3.3-70b-versatile\"\n",
    "\n",
    "response = groq.chat.completions.create(model=model_name, messages=messages)\n",
    "answer = response.choices[0].message.content\n",
    "\n",
    "display(Markdown(answer))\n",
    "competitors.append(model_name)\n",
    "answers.append(answer)\n"
   ]
  },
  {
   "cell_type": "markdown",
   "metadata": {},
   "source": [
    "## For the next cell, we will use Ollama\n",
    "\n",
    "Ollama runs a local web service that gives an OpenAI compatible endpoint,  \n",
    "and runs models locally using high performance C++ code.\n",
    "\n",
    "If you don't have Ollama, install it here by visiting https://ollama.com then pressing Download and following the instructions.\n",
    "\n",
    "After it's installed, you should be able to visit here: http://localhost:11434 and see the message \"Ollama is running\"\n",
    "\n",
    "You might need to restart Cursor (and maybe reboot). Then open a Terminal (control+\\`) and run `ollama serve`\n",
    "\n",
    "Useful Ollama commands (run these in the terminal, or with an exclamation mark in this notebook):\n",
    "\n",
    "`ollama pull <model_name>` downloads a model locally  \n",
    "`ollama ls` lists all the models you've downloaded  \n",
    "`ollama rm <model_name>` deletes the specified model from your downloads"
   ]
  },
  {
   "cell_type": "markdown",
   "metadata": {},
   "source": [
    "<table style=\"margin: 0; text-align: left; width:100%\">\n",
    "    <tr>\n",
    "        <td style=\"width: 150px; height: 150px; vertical-align: middle;\">\n",
    "            <img src=\"../assets/stop.png\" width=\"150\" height=\"150\" style=\"display: block;\" />\n",
    "        </td>\n",
    "        <td>\n",
    "            <h2 style=\"color:#ff7800;\">Super important - ignore me at your peril!</h2>\n",
    "            <span style=\"color:#ff7800;\">The model called <b>llama3.3</b> is FAR too large for home computers - it's not intended for personal computing and will consume all your resources! Stick with the nicely sized <b>llama3.2</b> or <b>llama3.2:1b</b> and if you want larger, try llama3.1 or smaller variants of Qwen, Gemma, Phi or DeepSeek. See the <A href=\"https://ollama.com/models\">the Ollama models page</a> for a full list of models and sizes.\n",
    "            </span>\n",
    "        </td>\n",
    "    </tr>\n",
    "</table>"
   ]
  },
  {
   "cell_type": "code",
   "execution_count": 3,
   "metadata": {},
   "outputs": [
    {
     "name": "stdout",
     "output_type": "stream",
     "text": [
      "\u001b[?2026h\u001b[?25l\u001b[1Gpulling manifest ⠋ \u001b[K\u001b[?25h\u001b[?2026l\u001b[?2026h\u001b[?25l\u001b[1Gpulling manifest ⠹ \u001b[K\u001b[?25h\u001b[?2026l\u001b[?2026h\u001b[?25l\u001b[1Gpulling manifest ⠹ \u001b[K\u001b[?25h\u001b[?2026l\u001b[?2026h\u001b[?25l\u001b[1Gpulling manifest ⠸ \u001b[K\u001b[?25h\u001b[?2026l\u001b[?2026h\u001b[?25l\u001b[1Gpulling manifest ⠼ \u001b[K\u001b[?25h\u001b[?2026l\u001b[?2026h\u001b[?25l\u001b[1Gpulling manifest ⠴ \u001b[K\u001b[?25h\u001b[?2026l\u001b[?2026h\u001b[?25l\u001b[1Gpulling manifest ⠦ \u001b[K\u001b[?25h\u001b[?2026l\u001b[?2026h\u001b[?25l\u001b[1Gpulling manifest ⠇ \u001b[K\u001b[?25h\u001b[?2026l\u001b[?2026h\u001b[?25l\u001b[1Gpulling manifest ⠇ \u001b[K\u001b[?25h\u001b[?2026l\u001b[?2026h\u001b[?25l\u001b[1Gpulling manifest ⠏ \u001b[K\u001b[?25h\u001b[?2026l\u001b[?2026h\u001b[?25l\u001b[1Gpulling manifest ⠋ \u001b[K\u001b[?25h\u001b[?2026l\u001b[?2026h\u001b[?25l\u001b[1Gpulling manifest ⠙ \u001b[K\u001b[?25h\u001b[?2026l\u001b[?2026h\u001b[?25l\u001b[1Gpulling manifest ⠸ \u001b[K\u001b[?25h\u001b[?2026l\u001b[?2026h\u001b[?25l\u001b[1Gpulling manifest \u001b[K\n",
      "pulling dde5aa3fc5ff: 100% ▕██████████████████▏ 2.0 GB                         \u001b[K\n",
      "pulling 966de95ca8a6: 100% ▕██████████████████▏ 1.4 KB                         \u001b[K\n",
      "pulling fcc5a6bec9da: 100% ▕██████████████████▏ 7.7 KB                         \u001b[K\n",
      "pulling a70ff7e570d9: 100% ▕██████████████████▏ 6.0 KB                         \u001b[K\n",
      "pulling 56bb8bd477a5: 100% ▕██████████████████▏   96 B                         \u001b[K\n",
      "pulling 34bb5ab01051: 100% ▕██████████████████▏  561 B                         \u001b[K\n",
      "verifying sha256 digest \u001b[K\n",
      "writing manifest \u001b[K\n",
      "success \u001b[K\u001b[?25h\u001b[?2026l\n"
     ]
    }
   ],
   "source": [
    "!ollama pull llama3.2"
   ]
  },
  {
   "cell_type": "code",
   "execution_count": 14,
   "metadata": {},
   "outputs": [
    {
     "data": {
      "text/markdown": [
       "To predict the most likely direction of a ship's trajectory from New York City to Tokyo in the year 2175, I'll consider trends and developments in oceanography, renewable energy technology, and global maritime trade patterns.\n",
       "\n",
       "1. Oceanographic Research:\n",
       "   - Advances in oceanographic research have led to better understanding of currents and ocean circulation patterns.\n",
       "   - The \"North Atlantic Meridional Overturning Circulation (AMOC)\" study predicts that by 2100, this system is likely to weaken or even reverse, which could impact global navigation. However, the predicted weakening occurs before 2175, so we're not expecting significant changes in ocean currents leading up to 2175.\n",
       "   - Improved understanding of oceanographic phenomena means ships will better navigate through any regions that may influence their path.\n",
       "\n",
       "\n",
       "2. Renewable Energy Technology:\n",
       " - By 2175, renewable energy is expected to be the norm for powering most shipping vessels due to its abundance and reduced greenhouse gas emissions.\n",
       " - Newer electric or hybrid propulsion systems should make long-distance ships more adaptable in adapting route choices.\n",
       "\n",
       "However, for routes between US East Coast (New York) to Tokyo, changes from renewable technology have a minimal impact.\n",
       "\n",
       "3. Global Maritime Trade Patterns:\n",
       "   - Increased emphasis on sustainability in marine trade is driving companies to choose cargo routes that reduce fuel consumption.\n",
       "   - The expansion of ocean infrastructure has expanded ship lanes through the Pacific. This indicates potential changes to how we travel by ship.\n",
       "\n",
       "\n",
       "Predicted Directions\n",
       "1. With increased awareness for sustainable maritime practices, and technological advancements of energy-efficient propulsion systems we expect a gradual reduction in the likelihood for ship routes with negative impacts on ecosystems.\n",
       "2. The current route is New York (US East Coast) to Shanghai or Yokohama via Suez Canal – These two options become highly preferred by shipping lanes as those routes allow sailors more flexibility and efficiency.\n",
       "\n",
       "Likely Route\n",
       "A likely trajectory might be:\n",
       "1. From the Port of New York/Newark the vessel will navigate SE at approximately 10-15 knots.\n",
       "2. Along with a possible change to fuel types during transit because most modern eco-friendly vessels switch to renewable energy by 2175, the course through the midAtlantic Ocean will still travel south-southwest.\n",
       "\n",
       "3. The ship then follows the path east following Japan's west coast as sailing speeds slow down in order for smoother navigation and comfort of crew."
      ],
      "text/plain": [
       "<IPython.core.display.Markdown object>"
      ]
     },
     "metadata": {},
     "output_type": "display_data"
    }
   ],
   "source": [
    "ollama = OpenAI(base_url='http://localhost:11434/v1', api_key='ollama')\n",
    "model_name = \"llama3.2\"\n",
    "\n",
    "response = ollama.chat.completions.create(model=model_name, messages=messages)\n",
    "answer = response.choices[0].message.content\n",
    "\n",
    "display(Markdown(answer))\n",
    "competitors.append(model_name)\n",
    "answers.append(answer)"
   ]
  },
  {
   "cell_type": "code",
   "execution_count": 21,
   "metadata": {},
   "outputs": [
    {
     "name": "stdout",
     "output_type": "stream",
     "text": [
      "['llama3.2', 'gemini-2.0-flash']\n",
      "['To predict the most likely direction of a ship\\'s trajectory from New York City to Tokyo in the year 2175, I\\'ll consider trends and developments in oceanography, renewable energy technology, and global maritime trade patterns.\\n\\n1. Oceanographic Research:\\n   - Advances in oceanographic research have led to better understanding of currents and ocean circulation patterns.\\n   - The \"North Atlantic Meridional Overturning Circulation (AMOC)\" study predicts that by 2100, this system is likely to weaken or even reverse, which could impact global navigation. However, the predicted weakening occurs before 2175, so we\\'re not expecting significant changes in ocean currents leading up to 2175.\\n   - Improved understanding of oceanographic phenomena means ships will better navigate through any regions that may influence their path.\\n\\n\\n2. Renewable Energy Technology:\\n - By 2175, renewable energy is expected to be the norm for powering most shipping vessels due to its abundance and reduced greenhouse gas emissions.\\n - Newer electric or hybrid propulsion systems should make long-distance ships more adaptable in adapting route choices.\\n\\nHowever, for routes between US East Coast (New York) to Tokyo, changes from renewable technology have a minimal impact.\\n\\n3. Global Maritime Trade Patterns:\\n   - Increased emphasis on sustainability in marine trade is driving companies to choose cargo routes that reduce fuel consumption.\\n   - The expansion of ocean infrastructure has expanded ship lanes through the Pacific. This indicates potential changes to how we travel by ship.\\n\\n\\nPredicted Directions\\n1. With increased awareness for sustainable maritime practices, and technological advancements of energy-efficient propulsion systems we expect a gradual reduction in the likelihood for ship routes with negative impacts on ecosystems.\\n2. The current route is New York (US East Coast) to Shanghai or Yokohama via Suez Canal – These two options become highly preferred by shipping lanes as those routes allow sailors more flexibility and efficiency.\\n\\nLikely Route\\nA likely trajectory might be:\\n1. From the Port of New York/Newark the vessel will navigate SE at approximately 10-15 knots.\\n2. Along with a possible change to fuel types during transit because most modern eco-friendly vessels switch to renewable energy by 2175, the course through the midAtlantic Ocean will still travel south-southwest.\\n\\n3. The ship then follows the path east following Japan\\'s west coast as sailing speeds slow down in order for smoother navigation and comfort of crew.', \"Given the constraints and assumptions, the most likely trajectory for a ship sailing from New York City to Tokyo in 2175 would be:\\n\\n**Generally, a Great Circle Route, but with significant deviations and optimizations based on future technologies and conditions.**\\n\\nHere's a breakdown of the factors and reasoning:\\n\\n*   **Great Circle Route as a Baseline:** The shortest distance between two points on a sphere is a great circle. In the absence of obstacles, future ships will still strive to follow a route that approximates a great circle to minimize travel time and fuel consumption.  For NYC to Tokyo, this would initially curve significantly northwards, passing near (or possibly through) the Arctic region.\\n\\n*   **Arctic Sea Route Opening (and Optimization):**  This is the most significant factor. By 2175, even with aggressive climate action, the Arctic is projected to be significantly less icy.  The **Northwest Passage (through Canada) and the Northern Sea Route (along Russia)** will be commercially viable and likely extensively used.\\n    *   **Prediction:** The ship will likely traverse one of these routes, offering a much shorter path than sailing through the Panama Canal or around the Cape of Good Hope.\\n    *   **Optimization:**  Precise routing within the Arctic will be optimized using:\\n        *   **Real-time ice monitoring and forecasting:**  Advanced sensor networks and AI will provide accurate predictions of ice conditions, allowing ships to avoid hazardous areas.\\n        *   **Weather routing:**  Sophisticated weather models will allow ships to take advantage of favorable winds and currents, further reducing travel time and fuel consumption.\\n        *   **Advanced propulsion systems:**  (See below).\\n\\n*   **Renewable Energy Integration:**\\n    *   **Wind-assisted propulsion:**  Modern sailing technology (e.g., rotor sails, kite sails) will be highly efficient and integrated into ship design. The ship will strategically alter course to take advantage of prevailing winds, especially in open ocean sections.\\n    *   **Solar power:**  Solar panels integrated into the ship's structure will provide supplementary power.  Routing might be slightly adjusted to maximize solar exposure, though this will be secondary to other considerations.\\n    *   **Wave energy:** Harnessing wave energy would be an additional factor if the tech has developed enough.\\n\\n*   **Maritime Trade Patterns:**\\n    *   **Emerging Trade Hubs:** While NYC and Tokyo will likely remain important ports, new or expanded ports may emerge along the Arctic routes. The ship might make a brief stop at a strategic port in the Arctic region for refueling, resupply, or cargo transfer.\\n    *   **Shift in Panama Canal Importance:** The opening of the Arctic routes will likely reduce reliance on the Panama Canal for East-West trade.\\n    *   **Larger and more efficient ships:** More goods per ship, less ships.\\n\\n*   **Ocean Currents:**  The ship will undoubtedly leverage ocean currents to its advantage, like the Gulf Stream (initially) and potentially the Kuroshio Current near Japan. Advanced models will help predict and utilize these currents effectively.\\n\\n*   **Advanced Propulsion Systems:**\\n    *   **Electric propulsion:** Electric motors powered by a combination of renewable energy sources (wind, solar, possibly wave) and potentially advanced battery technology or hydrogen fuel cells.\\n    *   **Hybrid systems:** A hybrid system that combines electric propulsion with a traditional fuel source (perhaps a sustainable biofuel) for backup or high-speed operation.\\n    *   **Automated Navigation:** AI-powered navigation systems will optimize routes in real-time based on all available data (weather, ice conditions, currents, energy availability).\\n\\n*   **Geopolitical Considerations:** Although harder to predict:\\n    *   **Sovereignty disputes:** If sovereignty over Arctic waters remains contested, the ship might deviate slightly to avoid disputed territories or comply with specific regulations.\\n    *   **Environmental regulations:** Stricter environmental regulations could influence the choice of fuel and routing, especially in sensitive Arctic regions.\\n\\n**In summary, the ship's likely trajectory would be:**\\n\\n1.  **Depart NYC and head generally northeast**, taking advantage of the Gulf Stream if applicable.\\n2.  **Enter the Arctic via either the Northwest Passage or the Northern Sea Route.** The choice will depend on ice conditions, weather, and geopolitical factors.\\n3.  **Navigate through the Arctic waterways**, using advanced navigation systems and ice monitoring to optimize the route.\\n4.  **Emerge from the Arctic and head south towards Japan.**\\n5.  **Leverage the Kuroshio Current (if advantageous) to approach Tokyo.**\\n\\nThe exact path will be dynamically adjusted based on real-time conditions and the ship's overall objectives (speed, fuel efficiency, environmental impact).  The route will be dramatically shorter than current options, and will be more environmentally friendly due to the use of renewable energy.\\n\"]\n"
     ]
    }
   ],
   "source": [
    "# So where are we?\n",
    "\n",
    "print(competitors)\n",
    "print(answers)\n"
   ]
  },
  {
   "cell_type": "code",
   "execution_count": 22,
   "metadata": {},
   "outputs": [
    {
     "name": "stdout",
     "output_type": "stream",
     "text": [
      "Competitor: llama3.2\n",
      "\n",
      "To predict the most likely direction of a ship's trajectory from New York City to Tokyo in the year 2175, I'll consider trends and developments in oceanography, renewable energy technology, and global maritime trade patterns.\n",
      "\n",
      "1. Oceanographic Research:\n",
      "   - Advances in oceanographic research have led to better understanding of currents and ocean circulation patterns.\n",
      "   - The \"North Atlantic Meridional Overturning Circulation (AMOC)\" study predicts that by 2100, this system is likely to weaken or even reverse, which could impact global navigation. However, the predicted weakening occurs before 2175, so we're not expecting significant changes in ocean currents leading up to 2175.\n",
      "   - Improved understanding of oceanographic phenomena means ships will better navigate through any regions that may influence their path.\n",
      "\n",
      "\n",
      "2. Renewable Energy Technology:\n",
      " - By 2175, renewable energy is expected to be the norm for powering most shipping vessels due to its abundance and reduced greenhouse gas emissions.\n",
      " - Newer electric or hybrid propulsion systems should make long-distance ships more adaptable in adapting route choices.\n",
      "\n",
      "However, for routes between US East Coast (New York) to Tokyo, changes from renewable technology have a minimal impact.\n",
      "\n",
      "3. Global Maritime Trade Patterns:\n",
      "   - Increased emphasis on sustainability in marine trade is driving companies to choose cargo routes that reduce fuel consumption.\n",
      "   - The expansion of ocean infrastructure has expanded ship lanes through the Pacific. This indicates potential changes to how we travel by ship.\n",
      "\n",
      "\n",
      "Predicted Directions\n",
      "1. With increased awareness for sustainable maritime practices, and technological advancements of energy-efficient propulsion systems we expect a gradual reduction in the likelihood for ship routes with negative impacts on ecosystems.\n",
      "2. The current route is New York (US East Coast) to Shanghai or Yokohama via Suez Canal – These two options become highly preferred by shipping lanes as those routes allow sailors more flexibility and efficiency.\n",
      "\n",
      "Likely Route\n",
      "A likely trajectory might be:\n",
      "1. From the Port of New York/Newark the vessel will navigate SE at approximately 10-15 knots.\n",
      "2. Along with a possible change to fuel types during transit because most modern eco-friendly vessels switch to renewable energy by 2175, the course through the midAtlantic Ocean will still travel south-southwest.\n",
      "\n",
      "3. The ship then follows the path east following Japan's west coast as sailing speeds slow down in order for smoother navigation and comfort of crew.\n",
      "Competitor: gemini-2.0-flash\n",
      "\n",
      "Given the constraints and assumptions, the most likely trajectory for a ship sailing from New York City to Tokyo in 2175 would be:\n",
      "\n",
      "**Generally, a Great Circle Route, but with significant deviations and optimizations based on future technologies and conditions.**\n",
      "\n",
      "Here's a breakdown of the factors and reasoning:\n",
      "\n",
      "*   **Great Circle Route as a Baseline:** The shortest distance between two points on a sphere is a great circle. In the absence of obstacles, future ships will still strive to follow a route that approximates a great circle to minimize travel time and fuel consumption.  For NYC to Tokyo, this would initially curve significantly northwards, passing near (or possibly through) the Arctic region.\n",
      "\n",
      "*   **Arctic Sea Route Opening (and Optimization):**  This is the most significant factor. By 2175, even with aggressive climate action, the Arctic is projected to be significantly less icy.  The **Northwest Passage (through Canada) and the Northern Sea Route (along Russia)** will be commercially viable and likely extensively used.\n",
      "    *   **Prediction:** The ship will likely traverse one of these routes, offering a much shorter path than sailing through the Panama Canal or around the Cape of Good Hope.\n",
      "    *   **Optimization:**  Precise routing within the Arctic will be optimized using:\n",
      "        *   **Real-time ice monitoring and forecasting:**  Advanced sensor networks and AI will provide accurate predictions of ice conditions, allowing ships to avoid hazardous areas.\n",
      "        *   **Weather routing:**  Sophisticated weather models will allow ships to take advantage of favorable winds and currents, further reducing travel time and fuel consumption.\n",
      "        *   **Advanced propulsion systems:**  (See below).\n",
      "\n",
      "*   **Renewable Energy Integration:**\n",
      "    *   **Wind-assisted propulsion:**  Modern sailing technology (e.g., rotor sails, kite sails) will be highly efficient and integrated into ship design. The ship will strategically alter course to take advantage of prevailing winds, especially in open ocean sections.\n",
      "    *   **Solar power:**  Solar panels integrated into the ship's structure will provide supplementary power.  Routing might be slightly adjusted to maximize solar exposure, though this will be secondary to other considerations.\n",
      "    *   **Wave energy:** Harnessing wave energy would be an additional factor if the tech has developed enough.\n",
      "\n",
      "*   **Maritime Trade Patterns:**\n",
      "    *   **Emerging Trade Hubs:** While NYC and Tokyo will likely remain important ports, new or expanded ports may emerge along the Arctic routes. The ship might make a brief stop at a strategic port in the Arctic region for refueling, resupply, or cargo transfer.\n",
      "    *   **Shift in Panama Canal Importance:** The opening of the Arctic routes will likely reduce reliance on the Panama Canal for East-West trade.\n",
      "    *   **Larger and more efficient ships:** More goods per ship, less ships.\n",
      "\n",
      "*   **Ocean Currents:**  The ship will undoubtedly leverage ocean currents to its advantage, like the Gulf Stream (initially) and potentially the Kuroshio Current near Japan. Advanced models will help predict and utilize these currents effectively.\n",
      "\n",
      "*   **Advanced Propulsion Systems:**\n",
      "    *   **Electric propulsion:** Electric motors powered by a combination of renewable energy sources (wind, solar, possibly wave) and potentially advanced battery technology or hydrogen fuel cells.\n",
      "    *   **Hybrid systems:** A hybrid system that combines electric propulsion with a traditional fuel source (perhaps a sustainable biofuel) for backup or high-speed operation.\n",
      "    *   **Automated Navigation:** AI-powered navigation systems will optimize routes in real-time based on all available data (weather, ice conditions, currents, energy availability).\n",
      "\n",
      "*   **Geopolitical Considerations:** Although harder to predict:\n",
      "    *   **Sovereignty disputes:** If sovereignty over Arctic waters remains contested, the ship might deviate slightly to avoid disputed territories or comply with specific regulations.\n",
      "    *   **Environmental regulations:** Stricter environmental regulations could influence the choice of fuel and routing, especially in sensitive Arctic regions.\n",
      "\n",
      "**In summary, the ship's likely trajectory would be:**\n",
      "\n",
      "1.  **Depart NYC and head generally northeast**, taking advantage of the Gulf Stream if applicable.\n",
      "2.  **Enter the Arctic via either the Northwest Passage or the Northern Sea Route.** The choice will depend on ice conditions, weather, and geopolitical factors.\n",
      "3.  **Navigate through the Arctic waterways**, using advanced navigation systems and ice monitoring to optimize the route.\n",
      "4.  **Emerge from the Arctic and head south towards Japan.**\n",
      "5.  **Leverage the Kuroshio Current (if advantageous) to approach Tokyo.**\n",
      "\n",
      "The exact path will be dynamically adjusted based on real-time conditions and the ship's overall objectives (speed, fuel efficiency, environmental impact).  The route will be dramatically shorter than current options, and will be more environmentally friendly due to the use of renewable energy.\n",
      "\n"
     ]
    }
   ],
   "source": [
    "# It's nice to know how to use \"zip\"\n",
    "for competitor, answer in zip(competitors, answers):\n",
    "    print(f\"Competitor: {competitor}\\n\\n{answer}\")\n"
   ]
  },
  {
   "cell_type": "code",
   "execution_count": 23,
   "metadata": {},
   "outputs": [],
   "source": [
    "# Let's bring this together - note the use of \"enumerate\"\n",
    "\n",
    "together = \"\"\n",
    "for index, answer in enumerate(answers):\n",
    "    together += f\"# Response from competitor {index+1}\\n\\n\"\n",
    "    together += answer + \"\\n\\n\""
   ]
  },
  {
   "cell_type": "code",
   "execution_count": 24,
   "metadata": {},
   "outputs": [
    {
     "name": "stdout",
     "output_type": "stream",
     "text": [
      "# Response from competitor 1\n",
      "\n",
      "To predict the most likely direction of a ship's trajectory from New York City to Tokyo in the year 2175, I'll consider trends and developments in oceanography, renewable energy technology, and global maritime trade patterns.\n",
      "\n",
      "1. Oceanographic Research:\n",
      "   - Advances in oceanographic research have led to better understanding of currents and ocean circulation patterns.\n",
      "   - The \"North Atlantic Meridional Overturning Circulation (AMOC)\" study predicts that by 2100, this system is likely to weaken or even reverse, which could impact global navigation. However, the predicted weakening occurs before 2175, so we're not expecting significant changes in ocean currents leading up to 2175.\n",
      "   - Improved understanding of oceanographic phenomena means ships will better navigate through any regions that may influence their path.\n",
      "\n",
      "\n",
      "2. Renewable Energy Technology:\n",
      " - By 2175, renewable energy is expected to be the norm for powering most shipping vessels due to its abundance and reduced greenhouse gas emissions.\n",
      " - Newer electric or hybrid propulsion systems should make long-distance ships more adaptable in adapting route choices.\n",
      "\n",
      "However, for routes between US East Coast (New York) to Tokyo, changes from renewable technology have a minimal impact.\n",
      "\n",
      "3. Global Maritime Trade Patterns:\n",
      "   - Increased emphasis on sustainability in marine trade is driving companies to choose cargo routes that reduce fuel consumption.\n",
      "   - The expansion of ocean infrastructure has expanded ship lanes through the Pacific. This indicates potential changes to how we travel by ship.\n",
      "\n",
      "\n",
      "Predicted Directions\n",
      "1. With increased awareness for sustainable maritime practices, and technological advancements of energy-efficient propulsion systems we expect a gradual reduction in the likelihood for ship routes with negative impacts on ecosystems.\n",
      "2. The current route is New York (US East Coast) to Shanghai or Yokohama via Suez Canal – These two options become highly preferred by shipping lanes as those routes allow sailors more flexibility and efficiency.\n",
      "\n",
      "Likely Route\n",
      "A likely trajectory might be:\n",
      "1. From the Port of New York/Newark the vessel will navigate SE at approximately 10-15 knots.\n",
      "2. Along with a possible change to fuel types during transit because most modern eco-friendly vessels switch to renewable energy by 2175, the course through the midAtlantic Ocean will still travel south-southwest.\n",
      "\n",
      "3. The ship then follows the path east following Japan's west coast as sailing speeds slow down in order for smoother navigation and comfort of crew.\n",
      "\n",
      "# Response from competitor 2\n",
      "\n",
      "Given the constraints and assumptions, the most likely trajectory for a ship sailing from New York City to Tokyo in 2175 would be:\n",
      "\n",
      "**Generally, a Great Circle Route, but with significant deviations and optimizations based on future technologies and conditions.**\n",
      "\n",
      "Here's a breakdown of the factors and reasoning:\n",
      "\n",
      "*   **Great Circle Route as a Baseline:** The shortest distance between two points on a sphere is a great circle. In the absence of obstacles, future ships will still strive to follow a route that approximates a great circle to minimize travel time and fuel consumption.  For NYC to Tokyo, this would initially curve significantly northwards, passing near (or possibly through) the Arctic region.\n",
      "\n",
      "*   **Arctic Sea Route Opening (and Optimization):**  This is the most significant factor. By 2175, even with aggressive climate action, the Arctic is projected to be significantly less icy.  The **Northwest Passage (through Canada) and the Northern Sea Route (along Russia)** will be commercially viable and likely extensively used.\n",
      "    *   **Prediction:** The ship will likely traverse one of these routes, offering a much shorter path than sailing through the Panama Canal or around the Cape of Good Hope.\n",
      "    *   **Optimization:**  Precise routing within the Arctic will be optimized using:\n",
      "        *   **Real-time ice monitoring and forecasting:**  Advanced sensor networks and AI will provide accurate predictions of ice conditions, allowing ships to avoid hazardous areas.\n",
      "        *   **Weather routing:**  Sophisticated weather models will allow ships to take advantage of favorable winds and currents, further reducing travel time and fuel consumption.\n",
      "        *   **Advanced propulsion systems:**  (See below).\n",
      "\n",
      "*   **Renewable Energy Integration:**\n",
      "    *   **Wind-assisted propulsion:**  Modern sailing technology (e.g., rotor sails, kite sails) will be highly efficient and integrated into ship design. The ship will strategically alter course to take advantage of prevailing winds, especially in open ocean sections.\n",
      "    *   **Solar power:**  Solar panels integrated into the ship's structure will provide supplementary power.  Routing might be slightly adjusted to maximize solar exposure, though this will be secondary to other considerations.\n",
      "    *   **Wave energy:** Harnessing wave energy would be an additional factor if the tech has developed enough.\n",
      "\n",
      "*   **Maritime Trade Patterns:**\n",
      "    *   **Emerging Trade Hubs:** While NYC and Tokyo will likely remain important ports, new or expanded ports may emerge along the Arctic routes. The ship might make a brief stop at a strategic port in the Arctic region for refueling, resupply, or cargo transfer.\n",
      "    *   **Shift in Panama Canal Importance:** The opening of the Arctic routes will likely reduce reliance on the Panama Canal for East-West trade.\n",
      "    *   **Larger and more efficient ships:** More goods per ship, less ships.\n",
      "\n",
      "*   **Ocean Currents:**  The ship will undoubtedly leverage ocean currents to its advantage, like the Gulf Stream (initially) and potentially the Kuroshio Current near Japan. Advanced models will help predict and utilize these currents effectively.\n",
      "\n",
      "*   **Advanced Propulsion Systems:**\n",
      "    *   **Electric propulsion:** Electric motors powered by a combination of renewable energy sources (wind, solar, possibly wave) and potentially advanced battery technology or hydrogen fuel cells.\n",
      "    *   **Hybrid systems:** A hybrid system that combines electric propulsion with a traditional fuel source (perhaps a sustainable biofuel) for backup or high-speed operation.\n",
      "    *   **Automated Navigation:** AI-powered navigation systems will optimize routes in real-time based on all available data (weather, ice conditions, currents, energy availability).\n",
      "\n",
      "*   **Geopolitical Considerations:** Although harder to predict:\n",
      "    *   **Sovereignty disputes:** If sovereignty over Arctic waters remains contested, the ship might deviate slightly to avoid disputed territories or comply with specific regulations.\n",
      "    *   **Environmental regulations:** Stricter environmental regulations could influence the choice of fuel and routing, especially in sensitive Arctic regions.\n",
      "\n",
      "**In summary, the ship's likely trajectory would be:**\n",
      "\n",
      "1.  **Depart NYC and head generally northeast**, taking advantage of the Gulf Stream if applicable.\n",
      "2.  **Enter the Arctic via either the Northwest Passage or the Northern Sea Route.** The choice will depend on ice conditions, weather, and geopolitical factors.\n",
      "3.  **Navigate through the Arctic waterways**, using advanced navigation systems and ice monitoring to optimize the route.\n",
      "4.  **Emerge from the Arctic and head south towards Japan.**\n",
      "5.  **Leverage the Kuroshio Current (if advantageous) to approach Tokyo.**\n",
      "\n",
      "The exact path will be dynamically adjusted based on real-time conditions and the ship's overall objectives (speed, fuel efficiency, environmental impact).  The route will be dramatically shorter than current options, and will be more environmentally friendly due to the use of renewable energy.\n",
      "\n",
      "\n",
      "\n"
     ]
    }
   ],
   "source": [
    "print(together)"
   ]
  },
  {
   "cell_type": "code",
   "execution_count": 25,
   "metadata": {},
   "outputs": [],
   "source": [
    "judge = f\"\"\"You are judging a competition between {len(competitors)} competitors.\n",
    "Each model has been given this question:\n",
    "\n",
    "{question}\n",
    "\n",
    "Your job is to evaluate each response for clarity and strength of argument, and rank them in order of best to worst.\n",
    "Respond with JSON, and only JSON, with the following format:\n",
    "{{\"results\": [\"best competitor number\", \"second best competitor number\", \"third best competitor number\", ...]}}\n",
    "\n",
    "Here are the responses from each competitor:\n",
    "\n",
    "{together}\n",
    "\n",
    "Now respond with the JSON with the ranked order of the competitors, nothing else. Do not include markdown formatting or code blocks.\"\"\"\n"
   ]
  },
  {
   "cell_type": "code",
   "execution_count": 26,
   "metadata": {},
   "outputs": [
    {
     "name": "stdout",
     "output_type": "stream",
     "text": [
      "You are judging a competition between 2 competitors.\n",
      "Each model has been given this question:\n",
      "\n",
      "What is the most likely direction of a trajectory for a ship sailing from New York City to Tokyo in the year 2175, assuming it follows all current and predicted developments in oceanographic research, renewable energy technology, and global maritime trade patterns?\n",
      "\n",
      "Your job is to evaluate each response for clarity and strength of argument, and rank them in order of best to worst.\n",
      "Respond with JSON, and only JSON, with the following format:\n",
      "{\"results\": [\"best competitor number\", \"second best competitor number\", \"third best competitor number\", ...]}\n",
      "\n",
      "Here are the responses from each competitor:\n",
      "\n",
      "# Response from competitor 1\n",
      "\n",
      "To predict the most likely direction of a ship's trajectory from New York City to Tokyo in the year 2175, I'll consider trends and developments in oceanography, renewable energy technology, and global maritime trade patterns.\n",
      "\n",
      "1. Oceanographic Research:\n",
      "   - Advances in oceanographic research have led to better understanding of currents and ocean circulation patterns.\n",
      "   - The \"North Atlantic Meridional Overturning Circulation (AMOC)\" study predicts that by 2100, this system is likely to weaken or even reverse, which could impact global navigation. However, the predicted weakening occurs before 2175, so we're not expecting significant changes in ocean currents leading up to 2175.\n",
      "   - Improved understanding of oceanographic phenomena means ships will better navigate through any regions that may influence their path.\n",
      "\n",
      "\n",
      "2. Renewable Energy Technology:\n",
      " - By 2175, renewable energy is expected to be the norm for powering most shipping vessels due to its abundance and reduced greenhouse gas emissions.\n",
      " - Newer electric or hybrid propulsion systems should make long-distance ships more adaptable in adapting route choices.\n",
      "\n",
      "However, for routes between US East Coast (New York) to Tokyo, changes from renewable technology have a minimal impact.\n",
      "\n",
      "3. Global Maritime Trade Patterns:\n",
      "   - Increased emphasis on sustainability in marine trade is driving companies to choose cargo routes that reduce fuel consumption.\n",
      "   - The expansion of ocean infrastructure has expanded ship lanes through the Pacific. This indicates potential changes to how we travel by ship.\n",
      "\n",
      "\n",
      "Predicted Directions\n",
      "1. With increased awareness for sustainable maritime practices, and technological advancements of energy-efficient propulsion systems we expect a gradual reduction in the likelihood for ship routes with negative impacts on ecosystems.\n",
      "2. The current route is New York (US East Coast) to Shanghai or Yokohama via Suez Canal – These two options become highly preferred by shipping lanes as those routes allow sailors more flexibility and efficiency.\n",
      "\n",
      "Likely Route\n",
      "A likely trajectory might be:\n",
      "1. From the Port of New York/Newark the vessel will navigate SE at approximately 10-15 knots.\n",
      "2. Along with a possible change to fuel types during transit because most modern eco-friendly vessels switch to renewable energy by 2175, the course through the midAtlantic Ocean will still travel south-southwest.\n",
      "\n",
      "3. The ship then follows the path east following Japan's west coast as sailing speeds slow down in order for smoother navigation and comfort of crew.\n",
      "\n",
      "# Response from competitor 2\n",
      "\n",
      "Given the constraints and assumptions, the most likely trajectory for a ship sailing from New York City to Tokyo in 2175 would be:\n",
      "\n",
      "**Generally, a Great Circle Route, but with significant deviations and optimizations based on future technologies and conditions.**\n",
      "\n",
      "Here's a breakdown of the factors and reasoning:\n",
      "\n",
      "*   **Great Circle Route as a Baseline:** The shortest distance between two points on a sphere is a great circle. In the absence of obstacles, future ships will still strive to follow a route that approximates a great circle to minimize travel time and fuel consumption.  For NYC to Tokyo, this would initially curve significantly northwards, passing near (or possibly through) the Arctic region.\n",
      "\n",
      "*   **Arctic Sea Route Opening (and Optimization):**  This is the most significant factor. By 2175, even with aggressive climate action, the Arctic is projected to be significantly less icy.  The **Northwest Passage (through Canada) and the Northern Sea Route (along Russia)** will be commercially viable and likely extensively used.\n",
      "    *   **Prediction:** The ship will likely traverse one of these routes, offering a much shorter path than sailing through the Panama Canal or around the Cape of Good Hope.\n",
      "    *   **Optimization:**  Precise routing within the Arctic will be optimized using:\n",
      "        *   **Real-time ice monitoring and forecasting:**  Advanced sensor networks and AI will provide accurate predictions of ice conditions, allowing ships to avoid hazardous areas.\n",
      "        *   **Weather routing:**  Sophisticated weather models will allow ships to take advantage of favorable winds and currents, further reducing travel time and fuel consumption.\n",
      "        *   **Advanced propulsion systems:**  (See below).\n",
      "\n",
      "*   **Renewable Energy Integration:**\n",
      "    *   **Wind-assisted propulsion:**  Modern sailing technology (e.g., rotor sails, kite sails) will be highly efficient and integrated into ship design. The ship will strategically alter course to take advantage of prevailing winds, especially in open ocean sections.\n",
      "    *   **Solar power:**  Solar panels integrated into the ship's structure will provide supplementary power.  Routing might be slightly adjusted to maximize solar exposure, though this will be secondary to other considerations.\n",
      "    *   **Wave energy:** Harnessing wave energy would be an additional factor if the tech has developed enough.\n",
      "\n",
      "*   **Maritime Trade Patterns:**\n",
      "    *   **Emerging Trade Hubs:** While NYC and Tokyo will likely remain important ports, new or expanded ports may emerge along the Arctic routes. The ship might make a brief stop at a strategic port in the Arctic region for refueling, resupply, or cargo transfer.\n",
      "    *   **Shift in Panama Canal Importance:** The opening of the Arctic routes will likely reduce reliance on the Panama Canal for East-West trade.\n",
      "    *   **Larger and more efficient ships:** More goods per ship, less ships.\n",
      "\n",
      "*   **Ocean Currents:**  The ship will undoubtedly leverage ocean currents to its advantage, like the Gulf Stream (initially) and potentially the Kuroshio Current near Japan. Advanced models will help predict and utilize these currents effectively.\n",
      "\n",
      "*   **Advanced Propulsion Systems:**\n",
      "    *   **Electric propulsion:** Electric motors powered by a combination of renewable energy sources (wind, solar, possibly wave) and potentially advanced battery technology or hydrogen fuel cells.\n",
      "    *   **Hybrid systems:** A hybrid system that combines electric propulsion with a traditional fuel source (perhaps a sustainable biofuel) for backup or high-speed operation.\n",
      "    *   **Automated Navigation:** AI-powered navigation systems will optimize routes in real-time based on all available data (weather, ice conditions, currents, energy availability).\n",
      "\n",
      "*   **Geopolitical Considerations:** Although harder to predict:\n",
      "    *   **Sovereignty disputes:** If sovereignty over Arctic waters remains contested, the ship might deviate slightly to avoid disputed territories or comply with specific regulations.\n",
      "    *   **Environmental regulations:** Stricter environmental regulations could influence the choice of fuel and routing, especially in sensitive Arctic regions.\n",
      "\n",
      "**In summary, the ship's likely trajectory would be:**\n",
      "\n",
      "1.  **Depart NYC and head generally northeast**, taking advantage of the Gulf Stream if applicable.\n",
      "2.  **Enter the Arctic via either the Northwest Passage or the Northern Sea Route.** The choice will depend on ice conditions, weather, and geopolitical factors.\n",
      "3.  **Navigate through the Arctic waterways**, using advanced navigation systems and ice monitoring to optimize the route.\n",
      "4.  **Emerge from the Arctic and head south towards Japan.**\n",
      "5.  **Leverage the Kuroshio Current (if advantageous) to approach Tokyo.**\n",
      "\n",
      "The exact path will be dynamically adjusted based on real-time conditions and the ship's overall objectives (speed, fuel efficiency, environmental impact).  The route will be dramatically shorter than current options, and will be more environmentally friendly due to the use of renewable energy.\n",
      "\n",
      "\n",
      "\n",
      "\n",
      "Now respond with the JSON with the ranked order of the competitors, nothing else. Do not include markdown formatting or code blocks.\n"
     ]
    }
   ],
   "source": [
    "print(judge)"
   ]
  },
  {
   "cell_type": "code",
   "execution_count": 27,
   "metadata": {},
   "outputs": [],
   "source": [
    "judge_messages = [{\"role\": \"user\", \"content\": judge}]"
   ]
  },
  {
   "cell_type": "code",
   "execution_count": 29,
   "metadata": {},
   "outputs": [
    {
     "name": "stdout",
     "output_type": "stream",
     "text": [
      "{\"results\": [2, 1, 1]}\n"
     ]
    }
   ],
   "source": [
    "# Judgement time!\n",
    "\n",
    "openai = OpenAI(base_url='http://localhost:11434/v1', api_key='ollama')\n",
    "response = openai.chat.completions.create(\n",
    "    # model=\"o3-mini\",\n",
    "    model=\"llama3.2\",\n",
    "    messages=judge_messages,\n",
    ")\n",
    "results = response.choices[0].message.content\n",
    "print(results)\n"
   ]
  },
  {
   "cell_type": "code",
   "execution_count": 30,
   "metadata": {},
   "outputs": [
    {
     "name": "stdout",
     "output_type": "stream",
     "text": [
      "Rank 1: gemini-2.0-flash\n",
      "Rank 2: llama3.2\n",
      "Rank 3: llama3.2\n"
     ]
    }
   ],
   "source": [
    "# OK let's turn this into results!\n",
    "\n",
    "results_dict = json.loads(results)\n",
    "ranks = results_dict[\"results\"]\n",
    "for index, result in enumerate(ranks):\n",
    "    competitor = competitors[int(result)-1]\n",
    "    print(f\"Rank {index+1}: {competitor}\")"
   ]
  },
  {
   "cell_type": "markdown",
   "metadata": {},
   "source": [
    "<table style=\"margin: 0; text-align: left; width:100%\">\n",
    "    <tr>\n",
    "        <td style=\"width: 150px; height: 150px; vertical-align: middle;\">\n",
    "            <img src=\"../assets/exercise.png\" width=\"150\" height=\"150\" style=\"display: block;\" />\n",
    "        </td>\n",
    "        <td>\n",
    "            <h2 style=\"color:#ff7800;\">Exercise</h2>\n",
    "            <span style=\"color:#ff7800;\">Which pattern(s) did this use? Try updating this to add another Agentic design pattern.\n",
    "            </span>\n",
    "        </td>\n",
    "    </tr>\n",
    "</table>"
   ]
  },
  {
   "cell_type": "markdown",
   "metadata": {},
   "source": [
    "<table style=\"margin: 0; text-align: left; width:100%\">\n",
    "    <tr>\n",
    "        <td style=\"width: 150px; height: 150px; vertical-align: middle;\">\n",
    "            <img src=\"../assets/business.png\" width=\"150\" height=\"150\" style=\"display: block;\" />\n",
    "        </td>\n",
    "        <td>\n",
    "            <h2 style=\"color:#00bfff;\">Commercial implications</h2>\n",
    "            <span style=\"color:#00bfff;\">These kinds of patterns - to send a task to multiple models, and evaluate results,\n",
    "            are common where you need to improve the quality of your LLM response. This approach can be universally applied\n",
    "            to business projects where accuracy is critical.\n",
    "            </span>\n",
    "        </td>\n",
    "    </tr>\n",
    "</table>"
   ]
  }
 ],
 "metadata": {
  "kernelspec": {
   "display_name": ".venv",
   "language": "python",
   "name": "python3"
  },
  "language_info": {
   "codemirror_mode": {
    "name": "ipython",
    "version": 3
   },
   "file_extension": ".py",
   "mimetype": "text/x-python",
   "name": "python",
   "nbconvert_exporter": "python",
   "pygments_lexer": "ipython3",
   "version": "3.12.3"
  }
 },
 "nbformat": 4,
 "nbformat_minor": 2
}
